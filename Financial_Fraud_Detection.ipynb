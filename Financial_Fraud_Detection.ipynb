{
  "nbformat": 4,
  "nbformat_minor": 0,
  "metadata": {
    "colab": {
      "provenance": [],
      "authorship_tag": "ABX9TyMpIfiBJJzdCg+iWK/kN/Lt",
      "include_colab_link": true
    },
    "kernelspec": {
      "name": "python3",
      "display_name": "Python 3"
    },
    "language_info": {
      "name": "python"
    }
  },
  "cells": [
    {
      "cell_type": "markdown",
      "metadata": {
        "id": "view-in-github",
        "colab_type": "text"
      },
      "source": [
        "<a href=\"https://colab.research.google.com/github/shourjya19b/Financial-Fraud-Detection/blob/main/Financial_Fraud_Detection.ipynb\" target=\"_parent\"><img src=\"https://colab.research.google.com/assets/colab-badge.svg\" alt=\"Open In Colab\"/></a>"
      ]
    },
    {
      "cell_type": "code",
      "execution_count": null,
      "metadata": {
        "id": "mZuhYfJRiLAG"
      },
      "outputs": [],
      "source": [
        "import numpy as np\n",
        "import pandas as pd\n",
        "import matplotlib.pyplot as plt\n",
        "plt.style.use('seaborn-v0_8')"
      ]
    },
    {
      "cell_type": "code",
      "source": [
        "from sklearn.preprocessing import MinMaxScaler,OneHotEncoder\n",
        "from sklearn.compose import ColumnTransformer\n",
        "from sklearn.ensemble import IsolationForest"
      ],
      "metadata": {
        "id": "3eIDOSRo9NQU"
      },
      "execution_count": null,
      "outputs": []
    },
    {
      "cell_type": "code",
      "source": [
        "!pip install H2O"
      ],
      "metadata": {
        "colab": {
          "base_uri": "https://localhost:8080/"
        },
        "id": "SX7Y8UZ_7lFn",
        "outputId": "4e64980f-c050-4e78-93cf-b354ed340e51"
      },
      "execution_count": null,
      "outputs": [
        {
          "output_type": "stream",
          "name": "stdout",
          "text": [
            "Looking in indexes: https://pypi.org/simple, https://us-python.pkg.dev/colab-wheels/public/simple/\n",
            "Collecting H2O\n",
            "  Downloading h2o-3.40.0.2.tar.gz (177.6 MB)\n",
            "\u001b[2K     \u001b[90m━━━━━━━━━━━━━━━━━━━━━━━━━━━━━━━━━━━━━━━\u001b[0m \u001b[32m177.6/177.6 MB\u001b[0m \u001b[31m7.3 MB/s\u001b[0m eta \u001b[36m0:00:00\u001b[0m\n",
            "\u001b[?25h  Preparing metadata (setup.py) ... \u001b[?25l\u001b[?25hdone\n",
            "Requirement already satisfied: requests in /usr/local/lib/python3.9/dist-packages (from H2O) (2.27.1)\n",
            "Requirement already satisfied: tabulate in /usr/local/lib/python3.9/dist-packages (from H2O) (0.8.10)\n",
            "Requirement already satisfied: future in /usr/local/lib/python3.9/dist-packages (from H2O) (0.18.3)\n",
            "Requirement already satisfied: certifi>=2017.4.17 in /usr/local/lib/python3.9/dist-packages (from requests->H2O) (2022.12.7)\n",
            "Requirement already satisfied: idna<4,>=2.5 in /usr/local/lib/python3.9/dist-packages (from requests->H2O) (3.4)\n",
            "Requirement already satisfied: urllib3<1.27,>=1.21.1 in /usr/local/lib/python3.9/dist-packages (from requests->H2O) (1.26.15)\n",
            "Requirement already satisfied: charset-normalizer~=2.0.0 in /usr/local/lib/python3.9/dist-packages (from requests->H2O) (2.0.12)\n",
            "Building wheels for collected packages: H2O\n",
            "  Building wheel for H2O (setup.py) ... \u001b[?25l\u001b[?25hdone\n",
            "  Created wheel for H2O: filename=h2o-3.40.0.2-py2.py3-none-any.whl size=177693439 sha256=3e12c869600bd99c92f4f99021528e3ded1a1f76833f94a4682d2d0c14b37636\n",
            "  Stored in directory: /root/.cache/pip/wheels/b2/79/e3/842b81607eb31946ee24898cc9961b101e6486f988a5103967\n",
            "Successfully built H2O\n",
            "Installing collected packages: H2O\n",
            "Successfully installed H2O-3.40.0.2\n"
          ]
        }
      ]
    },
    {
      "cell_type": "code",
      "source": [
        "import h2o\n",
        "from h2o.estimators import H2OExtendedIsolationForestEstimator\n",
        "h2o.init()"
      ],
      "metadata": {
        "colab": {
          "base_uri": "https://localhost:8080/",
          "height": 546
        },
        "id": "ZLf3tnc57D8J",
        "outputId": "bfb5fafb-7347-41f4-8802-31927523f171"
      },
      "execution_count": null,
      "outputs": [
        {
          "output_type": "stream",
          "name": "stdout",
          "text": [
            "Checking whether there is an H2O instance running at http://localhost:54321..... not found.\n",
            "Attempting to start a local H2O server...\n",
            "  Java Version: openjdk version \"11.0.18\" 2023-01-17; OpenJDK Runtime Environment (build 11.0.18+10-post-Ubuntu-0ubuntu120.04.1); OpenJDK 64-Bit Server VM (build 11.0.18+10-post-Ubuntu-0ubuntu120.04.1, mixed mode, sharing)\n",
            "  Starting server from /usr/local/lib/python3.9/dist-packages/h2o/backend/bin/h2o.jar\n",
            "  Ice root: /tmp/tmpku4_4uja\n",
            "  JVM stdout: /tmp/tmpku4_4uja/h2o_unknownUser_started_from_python.out\n",
            "  JVM stderr: /tmp/tmpku4_4uja/h2o_unknownUser_started_from_python.err\n",
            "  Server is running at http://127.0.0.1:54321\n",
            "Connecting to H2O server at http://127.0.0.1:54321 ... successful.\n"
          ]
        },
        {
          "output_type": "display_data",
          "data": {
            "text/plain": [
              "--------------------------  ----------------------------------\n",
              "H2O_cluster_uptime:         03 secs\n",
              "H2O_cluster_timezone:       Etc/UTC\n",
              "H2O_data_parsing_timezone:  UTC\n",
              "H2O_cluster_version:        3.40.0.2\n",
              "H2O_cluster_version_age:    17 days\n",
              "H2O_cluster_name:           H2O_from_python_unknownUser_696duj\n",
              "H2O_cluster_total_nodes:    1\n",
              "H2O_cluster_free_memory:    3.172 Gb\n",
              "H2O_cluster_total_cores:    2\n",
              "H2O_cluster_allowed_cores:  2\n",
              "H2O_cluster_status:         locked, healthy\n",
              "H2O_connection_url:         http://127.0.0.1:54321\n",
              "H2O_connection_proxy:       {\"http\": null, \"https\": null}\n",
              "H2O_internal_security:      False\n",
              "Python_version:             3.9.16 final\n",
              "--------------------------  ----------------------------------"
            ],
            "text/html": [
              "\n",
              "<style>\n",
              "\n",
              "#h2o-table-1.h2o-container {\n",
              "  overflow-x: auto;\n",
              "}\n",
              "#h2o-table-1 .h2o-table {\n",
              "  /* width: 100%; */\n",
              "  margin-top: 1em;\n",
              "  margin-bottom: 1em;\n",
              "}\n",
              "#h2o-table-1 .h2o-table caption {\n",
              "  white-space: nowrap;\n",
              "  caption-side: top;\n",
              "  text-align: left;\n",
              "  /* margin-left: 1em; */\n",
              "  margin: 0;\n",
              "  font-size: larger;\n",
              "}\n",
              "#h2o-table-1 .h2o-table thead {\n",
              "  white-space: nowrap; \n",
              "  position: sticky;\n",
              "  top: 0;\n",
              "  box-shadow: 0 -1px inset;\n",
              "}\n",
              "#h2o-table-1 .h2o-table tbody {\n",
              "  overflow: auto;\n",
              "}\n",
              "#h2o-table-1 .h2o-table th,\n",
              "#h2o-table-1 .h2o-table td {\n",
              "  text-align: right;\n",
              "  /* border: 1px solid; */\n",
              "}\n",
              "#h2o-table-1 .h2o-table tr:nth-child(even) {\n",
              "  /* background: #F5F5F5 */\n",
              "}\n",
              "\n",
              "</style>      \n",
              "<div id=\"h2o-table-1\" class=\"h2o-container\">\n",
              "  <table class=\"h2o-table\">\n",
              "    <caption></caption>\n",
              "    <thead></thead>\n",
              "    <tbody><tr><td>H2O_cluster_uptime:</td>\n",
              "<td>03 secs</td></tr>\n",
              "<tr><td>H2O_cluster_timezone:</td>\n",
              "<td>Etc/UTC</td></tr>\n",
              "<tr><td>H2O_data_parsing_timezone:</td>\n",
              "<td>UTC</td></tr>\n",
              "<tr><td>H2O_cluster_version:</td>\n",
              "<td>3.40.0.2</td></tr>\n",
              "<tr><td>H2O_cluster_version_age:</td>\n",
              "<td>17 days</td></tr>\n",
              "<tr><td>H2O_cluster_name:</td>\n",
              "<td>H2O_from_python_unknownUser_696duj</td></tr>\n",
              "<tr><td>H2O_cluster_total_nodes:</td>\n",
              "<td>1</td></tr>\n",
              "<tr><td>H2O_cluster_free_memory:</td>\n",
              "<td>3.172 Gb</td></tr>\n",
              "<tr><td>H2O_cluster_total_cores:</td>\n",
              "<td>2</td></tr>\n",
              "<tr><td>H2O_cluster_allowed_cores:</td>\n",
              "<td>2</td></tr>\n",
              "<tr><td>H2O_cluster_status:</td>\n",
              "<td>locked, healthy</td></tr>\n",
              "<tr><td>H2O_connection_url:</td>\n",
              "<td>http://127.0.0.1:54321</td></tr>\n",
              "<tr><td>H2O_connection_proxy:</td>\n",
              "<td>{\"http\": null, \"https\": null}</td></tr>\n",
              "<tr><td>H2O_internal_security:</td>\n",
              "<td>False</td></tr>\n",
              "<tr><td>Python_version:</td>\n",
              "<td>3.9.16 final</td></tr></tbody>\n",
              "  </table>\n",
              "</div>\n"
            ]
          },
          "metadata": {}
        }
      ]
    },
    {
      "cell_type": "code",
      "source": [
        "data=pd.read_excel('/content/Dataset_Datathon_Fraud_Detection_Transformed.xlsx')"
      ],
      "metadata": {
        "id": "9G-rrGTii64O"
      },
      "execution_count": null,
      "outputs": []
    },
    {
      "cell_type": "code",
      "source": [
        "data.head()"
      ],
      "metadata": {
        "colab": {
          "base_uri": "https://localhost:8080/",
          "height": 438
        },
        "id": "DM_dZ378jS6O",
        "outputId": "2f403bef-aa70-4ca4-a79f-c14f4d91905e"
      },
      "execution_count": null,
      "outputs": [
        {
          "output_type": "execute_result",
          "data": {
            "text/plain": [
              "     customer_id     event_dttm_Deli    event_type_nm  \\\n",
              "0  customer_id_0 2022-10-01 10:51:36  CHANGE_PASSWORD   \n",
              "1  customer_id_0 2022-10-01 11:15:21   SESSION_SIGNIN   \n",
              "2  customer_id_0 2022-10-01 11:31:55   SESSION_SIGNIN   \n",
              "3  customer_id_0 2022-10-01 11:45:42   SESSION_SIGNIN   \n",
              "4  customer_id_0 2022-10-03 10:28:24          DEPOSIT   \n",
              "\n",
              "  client_defined_event_type_nm               event_desc  \\\n",
              "0                        RENEW  Login password recovery   \n",
              "1               SESSION_SIGNIN                    Login   \n",
              "2               SESSION_SIGNIN                    Login   \n",
              "3               SESSION_SIGNIN                    Login   \n",
              "4                      100_BKO            Payment order   \n",
              "\n",
              "   operaton_amt_100 (rupees)  active phone call  remote desktop protokol  \\\n",
              "0                        0.0                  2                        2   \n",
              "1                        0.0                  2                        2   \n",
              "2                        0.0                  2                        2   \n",
              "3                        0.0                  2                        2   \n",
              "4                   116820.0                  1                        0   \n",
              "\n",
              "   emulator              f  ...   os device_model screensize  \\\n",
              "0         2  St Petersburg  ...  NaN          NaN        NaN   \n",
              "1         2  St Petersburg  ...  NaN          NaN        NaN   \n",
              "2         2  St Petersburg  ...  NaN          NaN        NaN   \n",
              "3         2  St Petersburg  ...  NaN          NaN        NaN   \n",
              "4         2            NaN  ...  iOS       iPhone    375x812   \n",
              "\n",
              "  agentconnectiontype screen_hash  device for user  reciever  password change  \\\n",
              "0                 NaN   287067538                1         0                0   \n",
              "1                 NaN   287067538                1         0                1   \n",
              "2                 NaN  -205759950                1         0                1   \n",
              "3                 NaN   287067538                1         0                1   \n",
              "4                wifi           0                2         0                0   \n",
              "\n",
              "   fast change of ip  ip not equal to previous  \n",
              "0                  0                         1  \n",
              "1                  0                         1  \n",
              "2                  0                         1  \n",
              "3                  0                         1  \n",
              "4                  0                         0  \n",
              "\n",
              "[5 rows x 21 columns]"
            ],
            "text/html": [
              "\n",
              "  <div id=\"df-e7bd0c8e-ec5b-4482-a471-5108a506c283\">\n",
              "    <div class=\"colab-df-container\">\n",
              "      <div>\n",
              "<style scoped>\n",
              "    .dataframe tbody tr th:only-of-type {\n",
              "        vertical-align: middle;\n",
              "    }\n",
              "\n",
              "    .dataframe tbody tr th {\n",
              "        vertical-align: top;\n",
              "    }\n",
              "\n",
              "    .dataframe thead th {\n",
              "        text-align: right;\n",
              "    }\n",
              "</style>\n",
              "<table border=\"1\" class=\"dataframe\">\n",
              "  <thead>\n",
              "    <tr style=\"text-align: right;\">\n",
              "      <th></th>\n",
              "      <th>customer_id</th>\n",
              "      <th>event_dttm_Deli</th>\n",
              "      <th>event_type_nm</th>\n",
              "      <th>client_defined_event_type_nm</th>\n",
              "      <th>event_desc</th>\n",
              "      <th>operaton_amt_100 (rupees)</th>\n",
              "      <th>active phone call</th>\n",
              "      <th>remote desktop protokol</th>\n",
              "      <th>emulator</th>\n",
              "      <th>f</th>\n",
              "      <th>...</th>\n",
              "      <th>os</th>\n",
              "      <th>device_model</th>\n",
              "      <th>screensize</th>\n",
              "      <th>agentconnectiontype</th>\n",
              "      <th>screen_hash</th>\n",
              "      <th>device for user</th>\n",
              "      <th>reciever</th>\n",
              "      <th>password change</th>\n",
              "      <th>fast change of ip</th>\n",
              "      <th>ip not equal to previous</th>\n",
              "    </tr>\n",
              "  </thead>\n",
              "  <tbody>\n",
              "    <tr>\n",
              "      <th>0</th>\n",
              "      <td>customer_id_0</td>\n",
              "      <td>2022-10-01 10:51:36</td>\n",
              "      <td>CHANGE_PASSWORD</td>\n",
              "      <td>RENEW</td>\n",
              "      <td>Login password recovery</td>\n",
              "      <td>0.0</td>\n",
              "      <td>2</td>\n",
              "      <td>2</td>\n",
              "      <td>2</td>\n",
              "      <td>St Petersburg</td>\n",
              "      <td>...</td>\n",
              "      <td>NaN</td>\n",
              "      <td>NaN</td>\n",
              "      <td>NaN</td>\n",
              "      <td>NaN</td>\n",
              "      <td>287067538</td>\n",
              "      <td>1</td>\n",
              "      <td>0</td>\n",
              "      <td>0</td>\n",
              "      <td>0</td>\n",
              "      <td>1</td>\n",
              "    </tr>\n",
              "    <tr>\n",
              "      <th>1</th>\n",
              "      <td>customer_id_0</td>\n",
              "      <td>2022-10-01 11:15:21</td>\n",
              "      <td>SESSION_SIGNIN</td>\n",
              "      <td>SESSION_SIGNIN</td>\n",
              "      <td>Login</td>\n",
              "      <td>0.0</td>\n",
              "      <td>2</td>\n",
              "      <td>2</td>\n",
              "      <td>2</td>\n",
              "      <td>St Petersburg</td>\n",
              "      <td>...</td>\n",
              "      <td>NaN</td>\n",
              "      <td>NaN</td>\n",
              "      <td>NaN</td>\n",
              "      <td>NaN</td>\n",
              "      <td>287067538</td>\n",
              "      <td>1</td>\n",
              "      <td>0</td>\n",
              "      <td>1</td>\n",
              "      <td>0</td>\n",
              "      <td>1</td>\n",
              "    </tr>\n",
              "    <tr>\n",
              "      <th>2</th>\n",
              "      <td>customer_id_0</td>\n",
              "      <td>2022-10-01 11:31:55</td>\n",
              "      <td>SESSION_SIGNIN</td>\n",
              "      <td>SESSION_SIGNIN</td>\n",
              "      <td>Login</td>\n",
              "      <td>0.0</td>\n",
              "      <td>2</td>\n",
              "      <td>2</td>\n",
              "      <td>2</td>\n",
              "      <td>St Petersburg</td>\n",
              "      <td>...</td>\n",
              "      <td>NaN</td>\n",
              "      <td>NaN</td>\n",
              "      <td>NaN</td>\n",
              "      <td>NaN</td>\n",
              "      <td>-205759950</td>\n",
              "      <td>1</td>\n",
              "      <td>0</td>\n",
              "      <td>1</td>\n",
              "      <td>0</td>\n",
              "      <td>1</td>\n",
              "    </tr>\n",
              "    <tr>\n",
              "      <th>3</th>\n",
              "      <td>customer_id_0</td>\n",
              "      <td>2022-10-01 11:45:42</td>\n",
              "      <td>SESSION_SIGNIN</td>\n",
              "      <td>SESSION_SIGNIN</td>\n",
              "      <td>Login</td>\n",
              "      <td>0.0</td>\n",
              "      <td>2</td>\n",
              "      <td>2</td>\n",
              "      <td>2</td>\n",
              "      <td>St Petersburg</td>\n",
              "      <td>...</td>\n",
              "      <td>NaN</td>\n",
              "      <td>NaN</td>\n",
              "      <td>NaN</td>\n",
              "      <td>NaN</td>\n",
              "      <td>287067538</td>\n",
              "      <td>1</td>\n",
              "      <td>0</td>\n",
              "      <td>1</td>\n",
              "      <td>0</td>\n",
              "      <td>1</td>\n",
              "    </tr>\n",
              "    <tr>\n",
              "      <th>4</th>\n",
              "      <td>customer_id_0</td>\n",
              "      <td>2022-10-03 10:28:24</td>\n",
              "      <td>DEPOSIT</td>\n",
              "      <td>100_BKO</td>\n",
              "      <td>Payment order</td>\n",
              "      <td>116820.0</td>\n",
              "      <td>1</td>\n",
              "      <td>0</td>\n",
              "      <td>2</td>\n",
              "      <td>NaN</td>\n",
              "      <td>...</td>\n",
              "      <td>iOS</td>\n",
              "      <td>iPhone</td>\n",
              "      <td>375x812</td>\n",
              "      <td>wifi</td>\n",
              "      <td>0</td>\n",
              "      <td>2</td>\n",
              "      <td>0</td>\n",
              "      <td>0</td>\n",
              "      <td>0</td>\n",
              "      <td>0</td>\n",
              "    </tr>\n",
              "  </tbody>\n",
              "</table>\n",
              "<p>5 rows × 21 columns</p>\n",
              "</div>\n",
              "      <button class=\"colab-df-convert\" onclick=\"convertToInteractive('df-e7bd0c8e-ec5b-4482-a471-5108a506c283')\"\n",
              "              title=\"Convert this dataframe to an interactive table.\"\n",
              "              style=\"display:none;\">\n",
              "        \n",
              "  <svg xmlns=\"http://www.w3.org/2000/svg\" height=\"24px\"viewBox=\"0 0 24 24\"\n",
              "       width=\"24px\">\n",
              "    <path d=\"M0 0h24v24H0V0z\" fill=\"none\"/>\n",
              "    <path d=\"M18.56 5.44l.94 2.06.94-2.06 2.06-.94-2.06-.94-.94-2.06-.94 2.06-2.06.94zm-11 1L8.5 8.5l.94-2.06 2.06-.94-2.06-.94L8.5 2.5l-.94 2.06-2.06.94zm10 10l.94 2.06.94-2.06 2.06-.94-2.06-.94-.94-2.06-.94 2.06-2.06.94z\"/><path d=\"M17.41 7.96l-1.37-1.37c-.4-.4-.92-.59-1.43-.59-.52 0-1.04.2-1.43.59L10.3 9.45l-7.72 7.72c-.78.78-.78 2.05 0 2.83L4 21.41c.39.39.9.59 1.41.59.51 0 1.02-.2 1.41-.59l7.78-7.78 2.81-2.81c.8-.78.8-2.07 0-2.86zM5.41 20L4 18.59l7.72-7.72 1.47 1.35L5.41 20z\"/>\n",
              "  </svg>\n",
              "      </button>\n",
              "      \n",
              "  <style>\n",
              "    .colab-df-container {\n",
              "      display:flex;\n",
              "      flex-wrap:wrap;\n",
              "      gap: 12px;\n",
              "    }\n",
              "\n",
              "    .colab-df-convert {\n",
              "      background-color: #E8F0FE;\n",
              "      border: none;\n",
              "      border-radius: 50%;\n",
              "      cursor: pointer;\n",
              "      display: none;\n",
              "      fill: #1967D2;\n",
              "      height: 32px;\n",
              "      padding: 0 0 0 0;\n",
              "      width: 32px;\n",
              "    }\n",
              "\n",
              "    .colab-df-convert:hover {\n",
              "      background-color: #E2EBFA;\n",
              "      box-shadow: 0px 1px 2px rgba(60, 64, 67, 0.3), 0px 1px 3px 1px rgba(60, 64, 67, 0.15);\n",
              "      fill: #174EA6;\n",
              "    }\n",
              "\n",
              "    [theme=dark] .colab-df-convert {\n",
              "      background-color: #3B4455;\n",
              "      fill: #D2E3FC;\n",
              "    }\n",
              "\n",
              "    [theme=dark] .colab-df-convert:hover {\n",
              "      background-color: #434B5C;\n",
              "      box-shadow: 0px 1px 3px 1px rgba(0, 0, 0, 0.15);\n",
              "      filter: drop-shadow(0px 1px 2px rgba(0, 0, 0, 0.3));\n",
              "      fill: #FFFFFF;\n",
              "    }\n",
              "  </style>\n",
              "\n",
              "      <script>\n",
              "        const buttonEl =\n",
              "          document.querySelector('#df-e7bd0c8e-ec5b-4482-a471-5108a506c283 button.colab-df-convert');\n",
              "        buttonEl.style.display =\n",
              "          google.colab.kernel.accessAllowed ? 'block' : 'none';\n",
              "\n",
              "        async function convertToInteractive(key) {\n",
              "          const element = document.querySelector('#df-e7bd0c8e-ec5b-4482-a471-5108a506c283');\n",
              "          const dataTable =\n",
              "            await google.colab.kernel.invokeFunction('convertToInteractive',\n",
              "                                                     [key], {});\n",
              "          if (!dataTable) return;\n",
              "\n",
              "          const docLinkHtml = 'Like what you see? Visit the ' +\n",
              "            '<a target=\"_blank\" href=https://colab.research.google.com/notebooks/data_table.ipynb>data table notebook</a>'\n",
              "            + ' to learn more about interactive tables.';\n",
              "          element.innerHTML = '';\n",
              "          dataTable['output_type'] = 'display_data';\n",
              "          await google.colab.output.renderOutput(dataTable, element);\n",
              "          const docLink = document.createElement('div');\n",
              "          docLink.innerHTML = docLinkHtml;\n",
              "          element.appendChild(docLink);\n",
              "        }\n",
              "      </script>\n",
              "    </div>\n",
              "  </div>\n",
              "  "
            ]
          },
          "metadata": {},
          "execution_count": 6
        }
      ]
    },
    {
      "cell_type": "code",
      "source": [
        "data.isnull().sum()"
      ],
      "metadata": {
        "colab": {
          "base_uri": "https://localhost:8080/"
        },
        "id": "IQ7hkAu9oS1V",
        "outputId": "1b5f38fe-24f6-4561-9f94-9c362db2cf3e"
      },
      "execution_count": null,
      "outputs": [
        {
          "output_type": "execute_result",
          "data": {
            "text/plain": [
              "customer_id                         0\n",
              "event_dttm_Deli                     0\n",
              "event_type_nm                       0\n",
              "client_defined_event_type_nm     1415\n",
              "event_desc                        169\n",
              "operaton_amt_100 (rupees)           0\n",
              "active phone call                   0\n",
              "remote desktop protokol             0\n",
              "emulator                            0\n",
              "f                                6303\n",
              "device_id                        7183\n",
              "os                               7183\n",
              "device_model                     7183\n",
              "screensize                       7183\n",
              "agentconnectiontype             10106\n",
              "screen_hash                         0\n",
              "device for user                     0\n",
              "reciever                            0\n",
              "password change                     0\n",
              "fast change of ip                   0\n",
              "ip not equal to previous            0\n",
              "dtype: int64"
            ]
          },
          "metadata": {},
          "execution_count": 7
        }
      ]
    },
    {
      "cell_type": "code",
      "source": [
        "data.replace(np.NaN,'NA',inplace=True)"
      ],
      "metadata": {
        "id": "ze01HZhyo3Cp"
      },
      "execution_count": null,
      "outputs": []
    },
    {
      "cell_type": "code",
      "source": [
        "data.isnull().sum()"
      ],
      "metadata": {
        "colab": {
          "base_uri": "https://localhost:8080/"
        },
        "id": "FsE5Wlq2qXwl",
        "outputId": "af1e034e-8cbe-497b-cee8-dc55ff665313"
      },
      "execution_count": null,
      "outputs": [
        {
          "output_type": "execute_result",
          "data": {
            "text/plain": [
              "customer_id                     0\n",
              "event_dttm_Deli                 0\n",
              "event_type_nm                   0\n",
              "client_defined_event_type_nm    0\n",
              "event_desc                      0\n",
              "operaton_amt_100 (rupees)       0\n",
              "active phone call               0\n",
              "remote desktop protokol         0\n",
              "emulator                        0\n",
              "f                               0\n",
              "device_id                       0\n",
              "os                              0\n",
              "device_model                    0\n",
              "screensize                      0\n",
              "agentconnectiontype             0\n",
              "screen_hash                     0\n",
              "device for user                 0\n",
              "reciever                        0\n",
              "password change                 0\n",
              "fast change of ip               0\n",
              "ip not equal to previous        0\n",
              "dtype: int64"
            ]
          },
          "metadata": {},
          "execution_count": 9
        }
      ]
    },
    {
      "cell_type": "code",
      "source": [
        "data['Time']=((data['event_dttm_Deli'].dt.hour)+(data['event_dttm_Deli'].dt.minute/60))/24"
      ],
      "metadata": {
        "id": "7_ybPLbuudvF"
      },
      "execution_count": null,
      "outputs": []
    },
    {
      "cell_type": "code",
      "source": [
        "data.drop(['customer_id','event_desc','event_dttm_Deli'],axis=1,inplace=True)"
      ],
      "metadata": {
        "id": "TczCeM8CwWky"
      },
      "execution_count": null,
      "outputs": []
    },
    {
      "cell_type": "code",
      "source": [
        "data.columns"
      ],
      "metadata": {
        "colab": {
          "base_uri": "https://localhost:8080/"
        },
        "id": "sq343rLwvaOk",
        "outputId": "ea0ab111-bab6-4170-a2a8-64f32d8e8944"
      },
      "execution_count": null,
      "outputs": [
        {
          "output_type": "execute_result",
          "data": {
            "text/plain": [
              "Index(['event_type_nm', 'client_defined_event_type_nm',\n",
              "       'operaton_amt_100 (rupees)', 'active phone call',\n",
              "       'remote desktop protokol', 'emulator', 'f', 'device_id', 'os',\n",
              "       'device_model', 'screensize', 'agentconnectiontype', 'screen_hash',\n",
              "       'device for user', 'reciever', 'password change', 'fast change of ip',\n",
              "       'ip not equal to previous', 'Time'],\n",
              "      dtype='object')"
            ]
          },
          "metadata": {},
          "execution_count": 12
        }
      ]
    },
    {
      "cell_type": "code",
      "source": [
        "column_tf=ColumnTransformer([('minmax',MinMaxScaler(),[2,18]),('ohe',OneHotEncoder(),[0,1,3,4,5,6,7,8,9,10,11,12,13])],remainder='passthrough')\n",
        "\n",
        "X=column_tf.fit_transform(data)"
      ],
      "metadata": {
        "id": "T4XbG3vg_vdK"
      },
      "execution_count": null,
      "outputs": []
    },
    {
      "cell_type": "code",
      "source": [
        "X.shape"
      ],
      "metadata": {
        "colab": {
          "base_uri": "https://localhost:8080/"
        },
        "id": "zZGE-5It2zp8",
        "outputId": "a7e9304a-b8be-4339-c7c0-4a70d83c01be"
      },
      "execution_count": null,
      "outputs": [
        {
          "output_type": "execute_result",
          "data": {
            "text/plain": [
              "(10969, 760)"
            ]
          },
          "metadata": {},
          "execution_count": 14
        }
      ]
    },
    {
      "cell_type": "code",
      "source": [
        "iso_forest=IsolationForest(contamination=0.02,random_state=42)"
      ],
      "metadata": {
        "id": "ms3zyyKEPNvL"
      },
      "execution_count": null,
      "outputs": []
    },
    {
      "cell_type": "code",
      "source": [
        "results=iso_forest.fit_predict(X)\n",
        "data['anomaly_if']=pd.Series(results)\n",
        "\n",
        "scores=iso_forest.score_samples(X)\n",
        "data['anomaly_score_if']=pd.Series(scores)"
      ],
      "metadata": {
        "id": "WKuoaatOVyZ7"
      },
      "execution_count": null,
      "outputs": []
    },
    {
      "cell_type": "code",
      "source": [
        "cutoff_if=data[data['anomaly_if']==-1]['anomaly_score_if'].max()\n",
        "print(cutoff_if)"
      ],
      "metadata": {
        "colab": {
          "base_uri": "https://localhost:8080/"
        },
        "id": "wJuAUWuNgbu-",
        "outputId": "2be8d5fc-c483-4d7b-b329-7319dc8d38c6"
      },
      "execution_count": null,
      "outputs": [
        {
          "output_type": "stream",
          "name": "stdout",
          "text": [
            "-0.36798524733170057\n"
          ]
        }
      ]
    },
    {
      "cell_type": "code",
      "source": [
        "plt.figure(figsize=(8,5))\n",
        "plt.hist(scores,bins=20)\n",
        "plt.title('Anomaly Score Histogram for Isolation Forest')\n",
        "plt.xlabel('Score')\n",
        "plt.ylabel('Frequency')\n",
        "plt.show()"
      ],
      "metadata": {
        "colab": {
          "base_uri": "https://localhost:8080/",
          "height": 349
        },
        "id": "OWN4bYj_WLID",
        "outputId": "17d32928-2286-478a-e1d2-2589bf5cd644"
      },
      "execution_count": null,
      "outputs": [
        {
          "output_type": "display_data",
          "data": {
            "text/plain": [
              "<Figure size 576x360 with 1 Axes>"
            ],
            "image/png": "[encoded data removed]"
          },
          "metadata": {}
        }
      ]
    },
    {
      "cell_type": "code",
      "source": [
        "# Define an Extended Isolation forest model\n",
        "eif = H2OExtendedIsolationForestEstimator(model_id = \"eif.hex\",\n",
        "                                          ntrees = 100,\n",
        "                                          sample_size = 256,\n",
        "                                          extension_level = X.shape[1]-1)\n",
        "\n",
        "# Converting Numpy array to H2O Frame\n",
        "h2o_df=h2o.H2OFrame(X)\n",
        "\n",
        "# Train Extended Isolation Forest\n",
        "eif.train(training_frame = h2o_df)\n",
        "\n",
        "# Calculate score\n",
        "eif_result = eif.predict(h2o_df)\n",
        "\n",
        "# Number in [0, 1] explicitly defined in Equation (1) from Extended Isolation Forest paper\n",
        "# or in paragraph '2 Isolation and Isolation Trees' of Isolation Forest paper\n",
        "anomaly_score = eif_result[\"anomaly_score\"]\n",
        "\n",
        "# Average path length  of the point in Isolation Trees from root to the leaf\n",
        "mean_length = eif_result[\"mean_length\"]"
      ],
      "metadata": {
        "colab": {
          "base_uri": "https://localhost:8080/"
        },
        "id": "McWzYiwY69nl",
        "outputId": "5a6ae4cf-bcec-4481-c462-39a87f921329"
      },
      "execution_count": null,
      "outputs": [
        {
          "output_type": "stream",
          "name": "stdout",
          "text": [
            "Parse progress: |████████████████████████████████████████████████████████████████| (done) 100%\n",
            "extendedisolationforest Model Build progress: |██████████████████████████████████| (done) 100%\n",
            "extendedisolationforest prediction progress: |███████████████████████████████████| (done) 100%\n"
          ]
        }
      ]
    },
    {
      "cell_type": "code",
      "source": [
        "results_eif=eif_result.as_data_frame()"
      ],
      "metadata": {
        "id": "b-_o_RM0_Nxc"
      },
      "execution_count": null,
      "outputs": []
    },
    {
      "cell_type": "code",
      "source": [
        "anomaly_score_eif=results_eif['anomaly_score'].to_numpy()\n",
        "\n",
        "cutoff_eif=np.percentile(anomaly_score_eif,98)\n",
        "\n",
        "print(cutoff_eif)"
      ],
      "metadata": {
        "colab": {
          "base_uri": "https://localhost:8080/"
        },
        "id": "ZF2Xa2Yh0xYZ",
        "outputId": "abfea7f0-edc5-4b6b-e64c-b635f773b43f"
      },
      "execution_count": null,
      "outputs": [
        {
          "output_type": "stream",
          "name": "stdout",
          "text": [
            "0.43398428274904005\n"
          ]
        }
      ]
    },
    {
      "cell_type": "code",
      "source": [
        "anomaly_eif=pd.Series([-1 if a>=cutoff_eif else 1 for a in anomaly_score_eif])\n",
        "\n",
        "data['anomaly_eif']=anomaly_eif"
      ],
      "metadata": {
        "id": "15_1cQmD1WVO"
      },
      "execution_count": null,
      "outputs": []
    },
    {
      "cell_type": "code",
      "source": [
        "data=pd.concat([data,results_eif],axis=1)"
      ],
      "metadata": {
        "id": "WqzqD7xNZt_Q"
      },
      "execution_count": null,
      "outputs": []
    },
    {
      "cell_type": "code",
      "source": [
        "data.rename(columns={'anomaly_score':'anomaly_score_eif'},inplace=True)"
      ],
      "metadata": {
        "id": "mzM7mggjlLYd"
      },
      "execution_count": null,
      "outputs": []
    },
    {
      "cell_type": "code",
      "source": [
        "plt.figure(figsize=(8,5))\n",
        "plt.hist(anomaly_score_eif,bins=20)\n",
        "plt.title('Anomaly Score Histogram for Extended Isolation Forest')\n",
        "plt.xlabel('Score')\n",
        "plt.ylabel('Frequency')\n",
        "plt.show()"
      ],
      "metadata": {
        "colab": {
          "base_uri": "https://localhost:8080/",
          "height": 349
        },
        "id": "OmgiNtceCozS",
        "outputId": "f0894136-c5f8-4907-df75-210bc49ca097"
      },
      "execution_count": null,
      "outputs": [
        {
          "output_type": "display_data",
          "data": {
            "text/plain": [
              "<Figure size 576x360 with 1 Axes>"
            ],
            "image/png": "[encoded data removed]"
          },
          "metadata": {}
        }
      ]
    },
    {
      "cell_type": "code",
      "source": [
        "data[(data['anomaly_if']==-1) | (data['anomaly_eif']==-1)]"
      ],
      "metadata": {
        "colab": {
          "base_uri": "https://localhost:8080/",
          "height": 522
        },
        "id": "AbVkJE8waC12",
        "outputId": "a6f0896c-5796-4cb1-d83d-9023f339d706"
      },
      "execution_count": null,
      "outputs": [
        {
          "output_type": "execute_result",
          "data": {
            "text/plain": [
              "         event_type_nm client_defined_event_type_nm  \\\n",
              "4              DEPOSIT                      100_BKO   \n",
              "15             DEPOSIT                      100_BKO   \n",
              "30             DEPOSIT                      100_BKO   \n",
              "31             DEPOSIT                      100_BKO   \n",
              "34             DEPOSIT                      100_BKO   \n",
              "...                ...                          ...   \n",
              "10888  CHANGE_PASSWORD      MOB_APP_CHANGE_PASSWORD   \n",
              "10892  CARD_PIN_CHANGE                   REMOTE_PIN   \n",
              "10893          PAYMENT                  WithoutRisk   \n",
              "10958   SESSION_SIGNIN       MOB_APP_SESSION_SIGNIN   \n",
              "10964   SESSION_SIGNIN       MOB_APP_SESSION_SIGNIN   \n",
              "\n",
              "       operaton_amt_100 (rupees)  active phone call  remote desktop protokol  \\\n",
              "4                       116820.0                  1                        0   \n",
              "15                      472000.0                  0                        0   \n",
              "30                      472000.0                  0                        0   \n",
              "31                      472000.0                  0                        0   \n",
              "34                      472000.0                  0                        0   \n",
              "...                          ...                ...                      ...   \n",
              "10888                        0.0                  0                        0   \n",
              "10892                        0.0                  0                        0   \n",
              "10893                       82.6                  0                        0   \n",
              "10958                        0.0                  0                        0   \n",
              "10964                        0.0                  0                        0   \n",
              "\n",
              "       emulator         f      device_id   os device_model  ... reciever  \\\n",
              "4             2        NA    device_id_1  iOS       iPhone  ...        0   \n",
              "15            2        NA    device_id_1  iOS       iPhone  ...        0   \n",
              "30            2        NA    device_id_1  iOS       iPhone  ...        0   \n",
              "31            2        NA    device_id_1  iOS       iPhone  ...        0   \n",
              "34            2        NA    device_id_1  iOS       iPhone  ...        0   \n",
              "...         ...       ...            ...  ...          ...  ...      ...   \n",
              "10888         2     Surat  device_id_204  iOS       iPhone  ...        0   \n",
              "10892         2        NA  device_id_209  iOS       iPhone  ...        0   \n",
              "10893         2        NA  device_id_209  iOS       iPhone  ...        1   \n",
              "10958         2  Kalkutta  device_id_211  iOS       iPhone  ...        0   \n",
              "10964         2  Kalkutta  device_id_211  iOS       iPhone  ...        0   \n",
              "\n",
              "      password change  fast change of ip  ip not equal to previous      Time  \\\n",
              "4                   0                  0                         0  0.436111   \n",
              "15                  0                  0                         0  0.602083   \n",
              "30                  0                  0                         0  0.604167   \n",
              "31                  0                  0                         0  0.605556   \n",
              "34                  0                  0                         0  0.627083   \n",
              "...               ...                ...                       ...       ...   \n",
              "10888               0                  0                         0  0.395833   \n",
              "10892               0                  0                         0  0.453472   \n",
              "10893               1                  0                         1  0.459028   \n",
              "10958               0                  0                         1  0.472222   \n",
              "10964               0                  0                         1  0.056944   \n",
              "\n",
              "       anomaly_if  anomaly_score_if  anomaly_eif  anomaly_score_eif  \\\n",
              "4              -1         -0.378086            1           0.427940   \n",
              "15             -1         -0.368784            1           0.415237   \n",
              "30             -1         -0.368784            1           0.415237   \n",
              "31             -1         -0.368784            1           0.415237   \n",
              "34             -1         -0.368534            1           0.411583   \n",
              "...           ...               ...          ...                ...   \n",
              "10888           1         -0.364614           -1           0.441715   \n",
              "10892           1         -0.364234           -1           0.435659   \n",
              "10893           1         -0.365909           -1           0.434902   \n",
              "10958           1         -0.348329           -1           0.434270   \n",
              "10964           1         -0.349610           -1           0.435641   \n",
              "\n",
              "       mean_length  \n",
              "4        12.544930  \n",
              "15       12.990282  \n",
              "30       12.990282  \n",
              "31       12.990282  \n",
              "34       13.120942  \n",
              "...            ...  \n",
              "10888    12.076673  \n",
              "10892    12.280699  \n",
              "10893    12.306393  \n",
              "10958    12.327897  \n",
              "10964    12.281317  \n",
              "\n",
              "[375 rows x 24 columns]"
            ],
            "text/html": [
              "\n",
              "  <div id=\"df-4b84ea66-6000-4f97-a8dc-ae6d513cb17b\">\n",
              "    <div class=\"colab-df-container\">\n",
              "      <div>\n",
              "<style scoped>\n",
              "    .dataframe tbody tr th:only-of-type {\n",
              "        vertical-align: middle;\n",
              "    }\n",
              "\n",
              "    .dataframe tbody tr th {\n",
              "        vertical-align: top;\n",
              "    }\n",
              "\n",
              "    .dataframe thead th {\n",
              "        text-align: right;\n",
              "    }\n",
              "</style>\n",
              "<table border=\"1\" class=\"dataframe\">\n",
              "  <thead>\n",
              "    <tr style=\"text-align: right;\">\n",
              "      <th></th>\n",
              "      <th>event_type_nm</th>\n",
              "      <th>client_defined_event_type_nm</th>\n",
              "      <th>operaton_amt_100 (rupees)</th>\n",
              "      <th>active phone call</th>\n",
              "      <th>remote desktop protokol</th>\n",
              "      <th>emulator</th>\n",
              "      <th>f</th>\n",
              "      <th>device_id</th>\n",
              "      <th>os</th>\n",
              "      <th>device_model</th>\n",
              "      <th>...</th>\n",
              "      <th>reciever</th>\n",
              "      <th>password change</th>\n",
              "      <th>fast change of ip</th>\n",
              "      <th>ip not equal to previous</th>\n",
              "      <th>Time</th>\n",
              "      <th>anomaly_if</th>\n",
              "      <th>anomaly_score_if</th>\n",
              "      <th>anomaly_eif</th>\n",
              "      <th>anomaly_score_eif</th>\n",
              "      <th>mean_length</th>\n",
              "    </tr>\n",
              "  </thead>\n",
              "  <tbody>\n",
              "    <tr>\n",
              "      <th>4</th>\n",
              "      <td>DEPOSIT</td>\n",
              "      <td>100_BKO</td>\n",
              "      <td>116820.0</td>\n",
              "      <td>1</td>\n",
              "      <td>0</td>\n",
              "      <td>2</td>\n",
              "      <td>NA</td>\n",
              "      <td>device_id_1</td>\n",
              "      <td>iOS</td>\n",
              "      <td>iPhone</td>\n",
              "      <td>...</td>\n",
              "      <td>0</td>\n",
              "      <td>0</td>\n",
              "      <td>0</td>\n",
              "      <td>0</td>\n",
              "      <td>0.436111</td>\n",
              "      <td>-1</td>\n",
              "      <td>-0.378086</td>\n",
              "      <td>1</td>\n",
              "      <td>0.427940</td>\n",
              "      <td>12.544930</td>\n",
              "    </tr>\n",
              "    <tr>\n",
              "      <th>15</th>\n",
              "      <td>DEPOSIT</td>\n",
              "      <td>100_BKO</td>\n",
              "      <td>472000.0</td>\n",
              "      <td>0</td>\n",
              "      <td>0</td>\n",
              "      <td>2</td>\n",
              "      <td>NA</td>\n",
              "      <td>device_id_1</td>\n",
              "      <td>iOS</td>\n",
              "      <td>iPhone</td>\n",
              "      <td>...</td>\n",
              "      <td>0</td>\n",
              "      <td>0</td>\n",
              "      <td>0</td>\n",
              "      <td>0</td>\n",
              "      <td>0.602083</td>\n",
              "      <td>-1</td>\n",
              "      <td>-0.368784</td>\n",
              "      <td>1</td>\n",
              "      <td>0.415237</td>\n",
              "      <td>12.990282</td>\n",
              "    </tr>\n",
              "    <tr>\n",
              "      <th>30</th>\n",
              "      <td>DEPOSIT</td>\n",
              "      <td>100_BKO</td>\n",
              "      <td>472000.0</td>\n",
              "      <td>0</td>\n",
              "      <td>0</td>\n",
              "      <td>2</td>\n",
              "      <td>NA</td>\n",
              "      <td>device_id_1</td>\n",
              "      <td>iOS</td>\n",
              "      <td>iPhone</td>\n",
              "      <td>...</td>\n",
              "      <td>0</td>\n",
              "      <td>0</td>\n",
              "      <td>0</td>\n",
              "      <td>0</td>\n",
              "      <td>0.604167</td>\n",
              "      <td>-1</td>\n",
              "      <td>-0.368784</td>\n",
              "      <td>1</td>\n",
              "      <td>0.415237</td>\n",
              "      <td>12.990282</td>\n",
              "    </tr>\n",
              "    <tr>\n",
              "      <th>31</th>\n",
              "      <td>DEPOSIT</td>\n",
              "      <td>100_BKO</td>\n",
              "      <td>472000.0</td>\n",
              "      <td>0</td>\n",
              "      <td>0</td>\n",
              "      <td>2</td>\n",
              "      <td>NA</td>\n",
              "      <td>device_id_1</td>\n",
              "      <td>iOS</td>\n",
              "      <td>iPhone</td>\n",
              "      <td>...</td>\n",
              "      <td>0</td>\n",
              "      <td>0</td>\n",
              "      <td>0</td>\n",
              "      <td>0</td>\n",
              "      <td>0.605556</td>\n",
              "      <td>-1</td>\n",
              "      <td>-0.368784</td>\n",
              "      <td>1</td>\n",
              "      <td>0.415237</td>\n",
              "      <td>12.990282</td>\n",
              "    </tr>\n",
              "    <tr>\n",
              "      <th>34</th>\n",
              "      <td>DEPOSIT</td>\n",
              "      <td>100_BKO</td>\n",
              "      <td>472000.0</td>\n",
              "      <td>0</td>\n",
              "      <td>0</td>\n",
              "      <td>2</td>\n",
              "      <td>NA</td>\n",
              "      <td>device_id_1</td>\n",
              "      <td>iOS</td>\n",
              "      <td>iPhone</td>\n",
              "      <td>...</td>\n",
              "      <td>0</td>\n",
              "      <td>0</td>\n",
              "      <td>0</td>\n",
              "      <td>0</td>\n",
              "      <td>0.627083</td>\n",
              "      <td>-1</td>\n",
              "      <td>-0.368534</td>\n",
              "      <td>1</td>\n",
              "      <td>0.411583</td>\n",
              "      <td>13.120942</td>\n",
              "    </tr>\n",
              "    <tr>\n",
              "      <th>...</th>\n",
              "      <td>...</td>\n",
              "      <td>...</td>\n",
              "      <td>...</td>\n",
              "      <td>...</td>\n",
              "      <td>...</td>\n",
              "      <td>...</td>\n",
              "      <td>...</td>\n",
              "      <td>...</td>\n",
              "      <td>...</td>\n",
              "      <td>...</td>\n",
              "      <td>...</td>\n",
              "      <td>...</td>\n",
              "      <td>...</td>\n",
              "      <td>...</td>\n",
              "      <td>...</td>\n",
              "      <td>...</td>\n",
              "      <td>...</td>\n",
              "      <td>...</td>\n",
              "      <td>...</td>\n",
              "      <td>...</td>\n",
              "      <td>...</td>\n",
              "    </tr>\n",
              "    <tr>\n",
              "      <th>10888</th>\n",
              "      <td>CHANGE_PASSWORD</td>\n",
              "      <td>MOB_APP_CHANGE_PASSWORD</td>\n",
              "      <td>0.0</td>\n",
              "      <td>0</td>\n",
              "      <td>0</td>\n",
              "      <td>2</td>\n",
              "      <td>Surat</td>\n",
              "      <td>device_id_204</td>\n",
              "      <td>iOS</td>\n",
              "      <td>iPhone</td>\n",
              "      <td>...</td>\n",
              "      <td>0</td>\n",
              "      <td>0</td>\n",
              "      <td>0</td>\n",
              "      <td>0</td>\n",
              "      <td>0.395833</td>\n",
              "      <td>1</td>\n",
              "      <td>-0.364614</td>\n",
              "      <td>-1</td>\n",
              "      <td>0.441715</td>\n",
              "      <td>12.076673</td>\n",
              "    </tr>\n",
              "    <tr>\n",
              "      <th>10892</th>\n",
              "      <td>CARD_PIN_CHANGE</td>\n",
              "      <td>REMOTE_PIN</td>\n",
              "      <td>0.0</td>\n",
              "      <td>0</td>\n",
              "      <td>0</td>\n",
              "      <td>2</td>\n",
              "      <td>NA</td>\n",
              "      <td>device_id_209</td>\n",
              "      <td>iOS</td>\n",
              "      <td>iPhone</td>\n",
              "      <td>...</td>\n",
              "      <td>0</td>\n",
              "      <td>0</td>\n",
              "      <td>0</td>\n",
              "      <td>0</td>\n",
              "      <td>0.453472</td>\n",
              "      <td>1</td>\n",
              "      <td>-0.364234</td>\n",
              "      <td>-1</td>\n",
              "      <td>0.435659</td>\n",
              "      <td>12.280699</td>\n",
              "    </tr>\n",
              "    <tr>\n",
              "      <th>10893</th>\n",
              "      <td>PAYMENT</td>\n",
              "      <td>WithoutRisk</td>\n",
              "      <td>82.6</td>\n",
              "      <td>0</td>\n",
              "      <td>0</td>\n",
              "      <td>2</td>\n",
              "      <td>NA</td>\n",
              "      <td>device_id_209</td>\n",
              "      <td>iOS</td>\n",
              "      <td>iPhone</td>\n",
              "      <td>...</td>\n",
              "      <td>1</td>\n",
              "      <td>1</td>\n",
              "      <td>0</td>\n",
              "      <td>1</td>\n",
              "      <td>0.459028</td>\n",
              "      <td>1</td>\n",
              "      <td>-0.365909</td>\n",
              "      <td>-1</td>\n",
              "      <td>0.434902</td>\n",
              "      <td>12.306393</td>\n",
              "    </tr>\n",
              "    <tr>\n",
              "      <th>10958</th>\n",
              "      <td>SESSION_SIGNIN</td>\n",
              "      <td>MOB_APP_SESSION_SIGNIN</td>\n",
              "      <td>0.0</td>\n",
              "      <td>0</td>\n",
              "      <td>0</td>\n",
              "      <td>2</td>\n",
              "      <td>Kalkutta</td>\n",
              "      <td>device_id_211</td>\n",
              "      <td>iOS</td>\n",
              "      <td>iPhone</td>\n",
              "      <td>...</td>\n",
              "      <td>0</td>\n",
              "      <td>0</td>\n",
              "      <td>0</td>\n",
              "      <td>1</td>\n",
              "      <td>0.472222</td>\n",
              "      <td>1</td>\n",
              "      <td>-0.348329</td>\n",
              "      <td>-1</td>\n",
              "      <td>0.434270</td>\n",
              "      <td>12.327897</td>\n",
              "    </tr>\n",
              "    <tr>\n",
              "      <th>10964</th>\n",
              "      <td>SESSION_SIGNIN</td>\n",
              "      <td>MOB_APP_SESSION_SIGNIN</td>\n",
              "      <td>0.0</td>\n",
              "      <td>0</td>\n",
              "      <td>0</td>\n",
              "      <td>2</td>\n",
              "      <td>Kalkutta</td>\n",
              "      <td>device_id_211</td>\n",
              "      <td>iOS</td>\n",
              "      <td>iPhone</td>\n",
              "      <td>...</td>\n",
              "      <td>0</td>\n",
              "      <td>0</td>\n",
              "      <td>0</td>\n",
              "      <td>1</td>\n",
              "      <td>0.056944</td>\n",
              "      <td>1</td>\n",
              "      <td>-0.349610</td>\n",
              "      <td>-1</td>\n",
              "      <td>0.435641</td>\n",
              "      <td>12.281317</td>\n",
              "    </tr>\n",
              "  </tbody>\n",
              "</table>\n",
              "<p>375 rows × 24 columns</p>\n",
              "</div>\n",
              "      <button class=\"colab-df-convert\" onclick=\"convertToInteractive('df-4b84ea66-6000-4f97-a8dc-ae6d513cb17b')\"\n",
              "              title=\"Convert this dataframe to an interactive table.\"\n",
              "              style=\"display:none;\">\n",
              "        \n",
              "  <svg xmlns=\"http://www.w3.org/2000/svg\" height=\"24px\"viewBox=\"0 0 24 24\"\n",
              "       width=\"24px\">\n",
              "    <path d=\"M0 0h24v24H0V0z\" fill=\"none\"/>\n",
              "    <path d=\"M18.56 5.44l.94 2.06.94-2.06 2.06-.94-2.06-.94-.94-2.06-.94 2.06-2.06.94zm-11 1L8.5 8.5l.94-2.06 2.06-.94-2.06-.94L8.5 2.5l-.94 2.06-2.06.94zm10 10l.94 2.06.94-2.06 2.06-.94-2.06-.94-.94-2.06-.94 2.06-2.06.94z\"/><path d=\"M17.41 7.96l-1.37-1.37c-.4-.4-.92-.59-1.43-.59-.52 0-1.04.2-1.43.59L10.3 9.45l-7.72 7.72c-.78.78-.78 2.05 0 2.83L4 21.41c.39.39.9.59 1.41.59.51 0 1.02-.2 1.41-.59l7.78-7.78 2.81-2.81c.8-.78.8-2.07 0-2.86zM5.41 20L4 18.59l7.72-7.72 1.47 1.35L5.41 20z\"/>\n",
              "  </svg>\n",
              "      </button>\n",
              "      \n",
              "  <style>\n",
              "    .colab-df-container {\n",
              "      display:flex;\n",
              "      flex-wrap:wrap;\n",
              "      gap: 12px;\n",
              "    }\n",
              "\n",
              "    .colab-df-convert {\n",
              "      background-color: #E8F0FE;\n",
              "      border: none;\n",
              "      border-radius: 50%;\n",
              "      cursor: pointer;\n",
              "      display: none;\n",
              "      fill: #1967D2;\n",
              "      height: 32px;\n",
              "      padding: 0 0 0 0;\n",
              "      width: 32px;\n",
              "    }\n",
              "\n",
              "    .colab-df-convert:hover {\n",
              "      background-color: #E2EBFA;\n",
              "      box-shadow: 0px 1px 2px rgba(60, 64, 67, 0.3), 0px 1px 3px 1px rgba(60, 64, 67, 0.15);\n",
              "      fill: #174EA6;\n",
              "    }\n",
              "\n",
              "    [theme=dark] .colab-df-convert {\n",
              "      background-color: #3B4455;\n",
              "      fill: #D2E3FC;\n",
              "    }\n",
              "\n",
              "    [theme=dark] .colab-df-convert:hover {\n",
              "      background-color: #434B5C;\n",
              "      box-shadow: 0px 1px 3px 1px rgba(0, 0, 0, 0.15);\n",
              "      filter: drop-shadow(0px 1px 2px rgba(0, 0, 0, 0.3));\n",
              "      fill: #FFFFFF;\n",
              "    }\n",
              "  </style>\n",
              "\n",
              "      <script>\n",
              "        const buttonEl =\n",
              "          document.querySelector('#df-4b84ea66-6000-4f97-a8dc-ae6d513cb17b button.colab-df-convert');\n",
              "        buttonEl.style.display =\n",
              "          google.colab.kernel.accessAllowed ? 'block' : 'none';\n",
              "\n",
              "        async function convertToInteractive(key) {\n",
              "          const element = document.querySelector('#df-4b84ea66-6000-4f97-a8dc-ae6d513cb17b');\n",
              "          const dataTable =\n",
              "            await google.colab.kernel.invokeFunction('convertToInteractive',\n",
              "                                                     [key], {});\n",
              "          if (!dataTable) return;\n",
              "\n",
              "          const docLinkHtml = 'Like what you see? Visit the ' +\n",
              "            '<a target=\"_blank\" href=https://colab.research.google.com/notebooks/data_table.ipynb>data table notebook</a>'\n",
              "            + ' to learn more about interactive tables.';\n",
              "          element.innerHTML = '';\n",
              "          dataTable['output_type'] = 'display_data';\n",
              "          await google.colab.output.renderOutput(dataTable, element);\n",
              "          const docLink = document.createElement('div');\n",
              "          docLink.innerHTML = docLinkHtml;\n",
              "          element.appendChild(docLink);\n",
              "        }\n",
              "      </script>\n",
              "    </div>\n",
              "  </div>\n",
              "  "
            ]
          },
          "metadata": {},
          "execution_count": 28
        }
      ]
    }
  ]
}